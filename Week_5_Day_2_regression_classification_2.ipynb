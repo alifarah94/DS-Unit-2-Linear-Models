{
  "nbformat": 4,
  "nbformat_minor": 0,
  "metadata": {
    "colab": {
      "name": "Week_5_Day_2_regression_classification_2.ipynb",
      "provenance": [],
      "collapsed_sections": [],
      "include_colab_link": true
    },
    "kernelspec": {
      "display_name": "Python 3",
      "language": "python",
      "name": "python3"
    },
    "language_info": {
      "codemirror_mode": {
        "name": "ipython",
        "version": 3
      },
      "file_extension": ".py",
      "mimetype": "text/x-python",
      "name": "python",
      "nbconvert_exporter": "python",
      "pygments_lexer": "ipython3",
      "version": "3.7.3"
    }
  },
  "cells": [
    {
      "cell_type": "markdown",
      "metadata": {
        "id": "view-in-github",
        "colab_type": "text"
      },
      "source": [
        "<a href=\"https://colab.research.google.com/github/alifarah94/DS-Unit-2-Linear-Models/blob/master/Week_5_Day_2_regression_classification_2.ipynb\" target=\"_parent\"><img src=\"https://colab.research.google.com/assets/colab-badge.svg\" alt=\"Open In Colab\"/></a>"
      ]
    },
    {
      "cell_type": "markdown",
      "metadata": {
        "id": "Bbo1YhpzKMS5",
        "colab_type": "text"
      },
      "source": [
        "Lambda School Data Science\n",
        "\n",
        "*Unit 2, Sprint 1, Module 2*\n",
        "\n",
        "---"
      ]
    },
    {
      "cell_type": "markdown",
      "metadata": {
        "colab_type": "text",
        "id": "7IXUfiQ2UKj6"
      },
      "source": [
        "# Regression 2\n",
        "\n",
        "## Assignment\n",
        "\n",
        "You'll continue to **predict how much it costs to rent an apartment in NYC,** using the dataset from renthop.com.\n",
        "\n",
        "- [ ] Do train/test split. Use data from April & May 2016 to train. Use data from June 2016 to test.\n",
        "- [ ] Engineer at least two new features. (See below for explanation & ideas.)\n",
        "- [ ] Fit a linear regression model with at least two features.\n",
        "- [ ] Get the model's coefficients and intercept.\n",
        "- [ ] Get regression metrics RMSE, MAE, and $R^2$, for both the train and test data.\n",
        "- [ ] What's the best test MAE you can get? Share your score and features used with your cohort on Slack!\n",
        "- [ ] As always, commit your notebook to your fork of the GitHub repo.\n",
        "\n",
        "\n",
        "#### [Feature Engineering](https://en.wikipedia.org/wiki/Feature_engineering)\n",
        "\n",
        "> \"Some machine learning projects succeed and some fail. What makes the difference? Easily the most important factor is the features used.\" — Pedro Domingos, [\"A Few Useful Things to Know about Machine Learning\"](https://homes.cs.washington.edu/~pedrod/papers/cacm12.pdf)\n",
        "\n",
        "> \"Coming up with features is difficult, time-consuming, requires expert knowledge. 'Applied machine learning' is basically feature engineering.\" — Andrew Ng, [Machine Learning and AI via Brain simulations](https://forum.stanford.edu/events/2011/2011slides/plenary/2011plenaryNg.pdf) \n",
        "\n",
        "> Feature engineering is the process of using domain knowledge of the data to create features that make machine learning algorithms work. \n",
        "\n",
        "#### Feature Ideas\n",
        "- Does the apartment have a description?\n",
        "- How long is the description?\n",
        "- How many total perks does each apartment have?\n",
        "- Are cats _or_ dogs allowed?\n",
        "- Are cats _and_ dogs allowed?\n",
        "- Total number of rooms (beds + baths)\n",
        "- Ratio of beds to baths\n",
        "- What's the neighborhood, based on address or latitude & longitude?\n",
        "\n",
        "## Stretch Goals\n",
        "- [ ] If you want more math, skim [_An Introduction to Statistical Learning_](http://faculty.marshall.usc.edu/gareth-james/ISL/ISLR%20Seventh%20Printing.pdf),  Chapter 3.1, Simple Linear Regression, & Chapter 3.2, Multiple Linear Regression\n",
        "- [ ] If you want more introduction, watch [Brandon Foltz, Statistics 101: Simple Linear Regression](https://www.youtube.com/watch?v=ZkjP5RJLQF4)\n",
        "(20 minutes, over 1 million views)\n",
        "- [ ] Add your own stretch goal(s) !"
      ]
    },
    {
      "cell_type": "code",
      "metadata": {
        "colab_type": "code",
        "id": "o9eSnDYhUGD7",
        "colab": {}
      },
      "source": [
        "%%capture\n",
        "import sys\n",
        "\n",
        "# If you're on Colab:\n",
        "if 'google.colab' in sys.modules:\n",
        "    DATA_PATH = 'https://raw.githubusercontent.com/LambdaSchool/DS-Unit-2-Applied-Modeling/master/data/'\n",
        "    !pip install category_encoders==2.*\n",
        "\n",
        "# If you're working locally:\n",
        "else:\n",
        "    DATA_PATH = '../data/'\n",
        "    \n",
        "# Ignore this Numpy warning when using Plotly Express:\n",
        "# FutureWarning: Method .ptp is deprecated and will be removed in a future version. Use numpy.ptp instead.\n",
        "import warnings\n",
        "warnings.filterwarnings(action='ignore', category=FutureWarning, module='numpy')"
      ],
      "execution_count": 0,
      "outputs": []
    },
    {
      "cell_type": "code",
      "metadata": {
        "colab_type": "code",
        "id": "cvrw-T3bZOuW",
        "colab": {}
      },
      "source": [
        "import numpy as np\n",
        "import pandas as pd\n",
        "\n",
        "# Read New York City apartment rental listing data\n",
        "df = pd.read_csv(DATA_PATH+'apartments/renthop-nyc.csv')\n",
        "assert df.shape == (49352, 34)\n",
        "\n",
        "# Remove the most extreme 1% prices,\n",
        "# the most extreme .1% latitudes, &\n",
        "# the most extreme .1% longitudes\n",
        "df = df[(df['price'] >= np.percentile(df['price'], 0.5)) & \n",
        "        (df['price'] <= np.percentile(df['price'], 99.5)) & \n",
        "        (df['latitude'] >= np.percentile(df['latitude'], 0.05)) & \n",
        "        (df['latitude'] < np.percentile(df['latitude'], 99.95)) &\n",
        "        (df['longitude'] >= np.percentile(df['longitude'], 0.05)) & \n",
        "        (df['longitude'] <= np.percentile(df['longitude'], 99.95))]"
      ],
      "execution_count": 0,
      "outputs": []
    },
    {
      "cell_type": "code",
      "metadata": {
        "id": "-wQ1zAV1gynZ",
        "colab_type": "code",
        "colab": {}
      },
      "source": [
        "df['utilities'] = df.dishwasher & df.laundry_in_unit # apartments with dishwasers and laundry \n",
        "df['loby'] = df.elevator & df.doorman # apartment that has a loby"
      ],
      "execution_count": 0,
      "outputs": []
    },
    {
      "cell_type": "code",
      "metadata": {
        "id": "NcZ2XiaGL1yv",
        "colab_type": "code",
        "colab": {
          "base_uri": "https://localhost:8080/",
          "height": 501
        },
        "outputId": "209c63a9-da78-48b9-cf1c-0e8eb449ea34"
      },
      "source": [
        "df.head()"
      ],
      "execution_count": 11,
      "outputs": [
        {
          "output_type": "execute_result",
          "data": {
            "text/html": [
              "<div>\n",
              "<style scoped>\n",
              "    .dataframe tbody tr th:only-of-type {\n",
              "        vertical-align: middle;\n",
              "    }\n",
              "\n",
              "    .dataframe tbody tr th {\n",
              "        vertical-align: top;\n",
              "    }\n",
              "\n",
              "    .dataframe thead th {\n",
              "        text-align: right;\n",
              "    }\n",
              "</style>\n",
              "<table border=\"1\" class=\"dataframe\">\n",
              "  <thead>\n",
              "    <tr style=\"text-align: right;\">\n",
              "      <th></th>\n",
              "      <th>bathrooms</th>\n",
              "      <th>bedrooms</th>\n",
              "      <th>created</th>\n",
              "      <th>description</th>\n",
              "      <th>display_address</th>\n",
              "      <th>latitude</th>\n",
              "      <th>longitude</th>\n",
              "      <th>price</th>\n",
              "      <th>street_address</th>\n",
              "      <th>interest_level</th>\n",
              "      <th>elevator</th>\n",
              "      <th>cats_allowed</th>\n",
              "      <th>hardwood_floors</th>\n",
              "      <th>dogs_allowed</th>\n",
              "      <th>doorman</th>\n",
              "      <th>dishwasher</th>\n",
              "      <th>no_fee</th>\n",
              "      <th>laundry_in_building</th>\n",
              "      <th>fitness_center</th>\n",
              "      <th>pre-war</th>\n",
              "      <th>laundry_in_unit</th>\n",
              "      <th>roof_deck</th>\n",
              "      <th>outdoor_space</th>\n",
              "      <th>dining_room</th>\n",
              "      <th>high_speed_internet</th>\n",
              "      <th>balcony</th>\n",
              "      <th>swimming_pool</th>\n",
              "      <th>new_construction</th>\n",
              "      <th>terrace</th>\n",
              "      <th>exclusive</th>\n",
              "      <th>loft</th>\n",
              "      <th>garden_patio</th>\n",
              "      <th>wheelchair_access</th>\n",
              "      <th>common_outdoor_space</th>\n",
              "    </tr>\n",
              "  </thead>\n",
              "  <tbody>\n",
              "    <tr>\n",
              "      <th>0</th>\n",
              "      <td>1.5</td>\n",
              "      <td>3</td>\n",
              "      <td>2016-06-24 07:54:24</td>\n",
              "      <td>A Brand New 3 Bedroom 1.5 bath ApartmentEnjoy ...</td>\n",
              "      <td>Metropolitan Avenue</td>\n",
              "      <td>40.7145</td>\n",
              "      <td>-73.9425</td>\n",
              "      <td>3000</td>\n",
              "      <td>792 Metropolitan Avenue</td>\n",
              "      <td>medium</td>\n",
              "      <td>0</td>\n",
              "      <td>0</td>\n",
              "      <td>0</td>\n",
              "      <td>0</td>\n",
              "      <td>0</td>\n",
              "      <td>0</td>\n",
              "      <td>0</td>\n",
              "      <td>0</td>\n",
              "      <td>0</td>\n",
              "      <td>0</td>\n",
              "      <td>0</td>\n",
              "      <td>0</td>\n",
              "      <td>0</td>\n",
              "      <td>0</td>\n",
              "      <td>0</td>\n",
              "      <td>0</td>\n",
              "      <td>0</td>\n",
              "      <td>0</td>\n",
              "      <td>0</td>\n",
              "      <td>0</td>\n",
              "      <td>0</td>\n",
              "      <td>0</td>\n",
              "      <td>0</td>\n",
              "      <td>0</td>\n",
              "    </tr>\n",
              "    <tr>\n",
              "      <th>1</th>\n",
              "      <td>1.0</td>\n",
              "      <td>2</td>\n",
              "      <td>2016-06-12 12:19:27</td>\n",
              "      <td></td>\n",
              "      <td>Columbus Avenue</td>\n",
              "      <td>40.7947</td>\n",
              "      <td>-73.9667</td>\n",
              "      <td>5465</td>\n",
              "      <td>808 Columbus Avenue</td>\n",
              "      <td>low</td>\n",
              "      <td>1</td>\n",
              "      <td>1</td>\n",
              "      <td>0</td>\n",
              "      <td>1</td>\n",
              "      <td>1</td>\n",
              "      <td>0</td>\n",
              "      <td>0</td>\n",
              "      <td>0</td>\n",
              "      <td>1</td>\n",
              "      <td>0</td>\n",
              "      <td>0</td>\n",
              "      <td>0</td>\n",
              "      <td>0</td>\n",
              "      <td>0</td>\n",
              "      <td>0</td>\n",
              "      <td>0</td>\n",
              "      <td>0</td>\n",
              "      <td>0</td>\n",
              "      <td>0</td>\n",
              "      <td>0</td>\n",
              "      <td>0</td>\n",
              "      <td>0</td>\n",
              "      <td>0</td>\n",
              "      <td>0</td>\n",
              "    </tr>\n",
              "    <tr>\n",
              "      <th>2</th>\n",
              "      <td>1.0</td>\n",
              "      <td>1</td>\n",
              "      <td>2016-04-17 03:26:41</td>\n",
              "      <td>Top Top West Village location, beautiful Pre-w...</td>\n",
              "      <td>W 13 Street</td>\n",
              "      <td>40.7388</td>\n",
              "      <td>-74.0018</td>\n",
              "      <td>2850</td>\n",
              "      <td>241 W 13 Street</td>\n",
              "      <td>high</td>\n",
              "      <td>0</td>\n",
              "      <td>0</td>\n",
              "      <td>1</td>\n",
              "      <td>0</td>\n",
              "      <td>0</td>\n",
              "      <td>1</td>\n",
              "      <td>0</td>\n",
              "      <td>1</td>\n",
              "      <td>0</td>\n",
              "      <td>0</td>\n",
              "      <td>0</td>\n",
              "      <td>0</td>\n",
              "      <td>0</td>\n",
              "      <td>0</td>\n",
              "      <td>0</td>\n",
              "      <td>0</td>\n",
              "      <td>0</td>\n",
              "      <td>0</td>\n",
              "      <td>0</td>\n",
              "      <td>0</td>\n",
              "      <td>0</td>\n",
              "      <td>0</td>\n",
              "      <td>0</td>\n",
              "      <td>0</td>\n",
              "    </tr>\n",
              "    <tr>\n",
              "      <th>3</th>\n",
              "      <td>1.0</td>\n",
              "      <td>1</td>\n",
              "      <td>2016-04-18 02:22:02</td>\n",
              "      <td>Building Amenities - Garage - Garden - fitness...</td>\n",
              "      <td>East 49th Street</td>\n",
              "      <td>40.7539</td>\n",
              "      <td>-73.9677</td>\n",
              "      <td>3275</td>\n",
              "      <td>333 East 49th Street</td>\n",
              "      <td>low</td>\n",
              "      <td>0</td>\n",
              "      <td>0</td>\n",
              "      <td>1</td>\n",
              "      <td>0</td>\n",
              "      <td>0</td>\n",
              "      <td>0</td>\n",
              "      <td>1</td>\n",
              "      <td>0</td>\n",
              "      <td>0</td>\n",
              "      <td>0</td>\n",
              "      <td>0</td>\n",
              "      <td>0</td>\n",
              "      <td>0</td>\n",
              "      <td>0</td>\n",
              "      <td>0</td>\n",
              "      <td>0</td>\n",
              "      <td>0</td>\n",
              "      <td>0</td>\n",
              "      <td>0</td>\n",
              "      <td>0</td>\n",
              "      <td>0</td>\n",
              "      <td>0</td>\n",
              "      <td>0</td>\n",
              "      <td>0</td>\n",
              "    </tr>\n",
              "    <tr>\n",
              "      <th>4</th>\n",
              "      <td>1.0</td>\n",
              "      <td>4</td>\n",
              "      <td>2016-04-28 01:32:41</td>\n",
              "      <td>Beautifully renovated 3 bedroom flex 4 bedroom...</td>\n",
              "      <td>West 143rd Street</td>\n",
              "      <td>40.8241</td>\n",
              "      <td>-73.9493</td>\n",
              "      <td>3350</td>\n",
              "      <td>500 West 143rd Street</td>\n",
              "      <td>low</td>\n",
              "      <td>0</td>\n",
              "      <td>0</td>\n",
              "      <td>0</td>\n",
              "      <td>0</td>\n",
              "      <td>0</td>\n",
              "      <td>0</td>\n",
              "      <td>0</td>\n",
              "      <td>0</td>\n",
              "      <td>0</td>\n",
              "      <td>1</td>\n",
              "      <td>0</td>\n",
              "      <td>0</td>\n",
              "      <td>0</td>\n",
              "      <td>0</td>\n",
              "      <td>0</td>\n",
              "      <td>0</td>\n",
              "      <td>0</td>\n",
              "      <td>0</td>\n",
              "      <td>0</td>\n",
              "      <td>0</td>\n",
              "      <td>0</td>\n",
              "      <td>0</td>\n",
              "      <td>0</td>\n",
              "      <td>0</td>\n",
              "    </tr>\n",
              "  </tbody>\n",
              "</table>\n",
              "</div>"
            ],
            "text/plain": [
              "   bathrooms  bedrooms  ... wheelchair_access common_outdoor_space\n",
              "0        1.5         3  ...                 0                    0\n",
              "1        1.0         2  ...                 0                    0\n",
              "2        1.0         1  ...                 0                    0\n",
              "3        1.0         1  ...                 0                    0\n",
              "4        1.0         4  ...                 0                    0\n",
              "\n",
              "[5 rows x 34 columns]"
            ]
          },
          "metadata": {
            "tags": []
          },
          "execution_count": 11
        }
      ]
    },
    {
      "cell_type": "code",
      "metadata": {
        "id": "UxTuVDwXNUxX",
        "colab_type": "code",
        "colab": {}
      },
      "source": [
        "from sklearn.linear_model import LinearRegression # liner regression model\n",
        "from sklearn.metrics import r2_score\n",
        "import matplotlib.pyplot as plt\n",
        "from sklearn.metrics import mean_absolute_error, mean_squared_error\n",
        "import math"
      ],
      "execution_count": 0,
      "outputs": []
    },
    {
      "cell_type": "code",
      "metadata": {
        "id": "KBcyzqu2Nf0I",
        "colab_type": "code",
        "colab": {}
      },
      "source": [
        "model = LinearRegression()"
      ],
      "execution_count": 0,
      "outputs": []
    },
    {
      "cell_type": "code",
      "metadata": {
        "id": "U1xJINBFNmWl",
        "colab_type": "code",
        "colab": {}
      },
      "source": [
        "\n",
        "\n",
        "df['created'] = pd.to_datetime(df['created'], infer_datetime_format=True) # turns the created column into datetime format\n",
        "cutoff = pd.to_datetime('2016-06-01') # create variable that holds the threshold date\n",
        "\n",
        "df_train = df[df.created<cutoff] # store date lower than threshhold date\n",
        "df_test = df[df.created>cutoff]"
      ],
      "execution_count": 0,
      "outputs": []
    },
    {
      "cell_type": "code",
      "metadata": {
        "id": "ClgclZM6nl6P",
        "colab_type": "code",
        "colab": {}
      },
      "source": [
        "features = ['utilities','loby']\n",
        "target = 'price'"
      ],
      "execution_count": 0,
      "outputs": []
    },
    {
      "cell_type": "code",
      "metadata": {
        "id": "O1eChu48eLeQ",
        "colab_type": "code",
        "colab": {}
      },
      "source": [
        "x_train = df_train[features]\n",
        "y_train = df_train[target]\n",
        "x_test = df_test[features]\n",
        "y_test = df_test[target]"
      ],
      "execution_count": 0,
      "outputs": []
    },
    {
      "cell_type": "code",
      "metadata": {
        "id": "naAncX6IQRoV",
        "colab_type": "code",
        "colab": {
          "base_uri": "https://localhost:8080/",
          "height": 33
        },
        "outputId": "ae1b656d-6b52-4683-c04f-7fda68bdfdc2"
      },
      "source": [
        "model.fit(x_train,y_train)"
      ],
      "execution_count": 30,
      "outputs": [
        {
          "output_type": "execute_result",
          "data": {
            "text/plain": [
              "LinearRegression(copy_X=True, fit_intercept=True, n_jobs=None, normalize=False)"
            ]
          },
          "metadata": {
            "tags": []
          },
          "execution_count": 30
        }
      ]
    },
    {
      "cell_type": "code",
      "metadata": {
        "id": "1i7n9wosrrtB",
        "colab_type": "code",
        "colab": {}
      },
      "source": [
        "y_pred = model.predict(x_test) # didnt know\n",
        "y_pred_train = model.predict(x_train) # did know"
      ],
      "execution_count": 0,
      "outputs": []
    },
    {
      "cell_type": "code",
      "metadata": {
        "id": "TsObQ2JXrmmS",
        "colab_type": "code",
        "colab": {
          "base_uri": "https://localhost:8080/",
          "height": 33
        },
        "outputId": "ec133fd6-638c-4afb-c81c-e7a20705a388"
      },
      "source": [
        "model.intercept_, model.coef_"
      ],
      "execution_count": 42,
      "outputs": [
        {
          "output_type": "execute_result",
          "data": {
            "text/plain": [
              "(3104.5713269633893, array([1160.98564822,  762.6049374 ]))"
            ]
          },
          "metadata": {
            "tags": []
          },
          "execution_count": 42
        }
      ]
    },
    {
      "cell_type": "code",
      "metadata": {
        "id": "2vU6w4IJrFBX",
        "colab_type": "code",
        "colab": {}
      },
      "source": [
        "mae_train = mean_absolute_error(y_train, y_pred_train)\n",
        "rms_train = math.sqrt(mean_squared_error(y_train, y_pred_train))\n",
        "r2_train = r2_score(y_train, y_pred_train) "
      ],
      "execution_count": 0,
      "outputs": []
    },
    {
      "cell_type": "code",
      "metadata": {
        "id": "xi5m5_QMwiav",
        "colab_type": "code",
        "colab": {}
      },
      "source": [
        "mae_test = mean_absolute_error(y_test, y_pred)\n",
        "rms_test = math.sqrt(mean_squared_error(y_test, y_pred))\n",
        "r2_test = r2_score(y_test, y_pred) "
      ],
      "execution_count": 0,
      "outputs": []
    }
  ]
}